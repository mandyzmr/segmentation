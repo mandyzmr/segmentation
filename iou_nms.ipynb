{
 "cells": [
  {
   "cell_type": "markdown",
   "id": "91407e49-fa65-4955-a831-ececd3e58812",
   "metadata": {
    "tags": []
   },
   "source": [
    "## IOU & NMS"
   ]
  },
  {
   "cell_type": "code",
   "execution_count": 6,
   "id": "e843a6e9-036e-4e58-a732-1f584f7e36be",
   "metadata": {},
   "outputs": [],
   "source": [
    "import numpy as np\n",
    "import cv2\n",
    "import matplotlib.pyplot as plt\n",
    "%matplotlib inline"
   ]
  },
  {
   "cell_type": "markdown",
   "id": "918ff469-ad36-458c-9e6b-a6915bde517f",
   "metadata": {},
   "source": [
    "#### BBox"
   ]
  },
  {
   "cell_type": "code",
   "execution_count": 7,
   "id": "b7814df9-f855-409b-95c7-696cbd8e98eb",
   "metadata": {},
   "outputs": [],
   "source": [
    "class Bounding_box:\n",
    "    def __init__(self, x1, y1, x2, y2, score):\n",
    "        self.x1 = x1\n",
    "        self.y1 = y1\n",
    "        self.x2 = x2\n",
    "        self.y2 = y2\n",
    "        self.score = score"
   ]
  },
  {
   "cell_type": "code",
   "execution_count": 8,
   "id": "ae06163e-72d7-4dec-8153-f7f7a44183eb",
   "metadata": {},
   "outputs": [],
   "source": [
    "box1 = Bounding_box(13, 22, 268, 367, 0.124648176)\n",
    "box2 = Bounding_box(18, 27, 294, 400, 0.35818103)\n",
    "box3 = Bounding_box(234, 123, 466, 678, 0.13638769)\n",
    "box_lists = [box1, box2, box3]"
   ]
  },
  {
   "cell_type": "code",
   "execution_count": 9,
   "id": "71b4f699-830a-4515-bc43-d618c440419a",
   "metadata": {},
   "outputs": [],
   "source": [
    "def show_bbox(image, box_lists):\n",
    "    for i, bbox in enumerate(box_lists):\n",
    "        draw_bbox(image, bbox, f'bbox{i+1}')\n",
    "    plt.imshow(image[...,::-1])\n",
    "    plt.axis('off')\n",
    "    plt.show()\n",
    "    \n",
    "    \n",
    "def draw_bbox(image, bbox, text):\n",
    "    cv2.rectangle(image, pt1=(bbox.x1,bbox.y1), #通过bbox.left()得到4个点坐标\n",
    "                 pt2=(bbox.x2,bbox.y2), \n",
    "                 color=(0,0,225), thickness=2) #RGB\n",
    "    cv2.putText(image, text=text,\n",
    "                org=(bbox.x1-5,bbox.y1-5), #框左上角坐标为文字的左下角\n",
    "                fontFace=cv2.FONT_HERSHEY_DUPLEX, fontScale=1, #字体，大小\n",
    "                color=(0,0,225), thickness=2, lineType=cv2.LINE_AA) #文字颜色，线条粗细"
   ]
  },
  {
   "cell_type": "code",
   "execution_count": 10,
   "id": "25bff66b-9573-4249-ac43-7f0c088c23a1",
   "metadata": {},
   "outputs": [
    {
     "data": {
      "image/png": "[encoded data removed]",
      "text/plain": [
       "<Figure size 432x288 with 1 Axes>"
      ]
     },
     "metadata": {
      "needs_background": "light"
     },
     "output_type": "display_data"
    }
   ],
   "source": [
    "image = np.zeros([700,500,3], dtype='uint8')\n",
    "show_bbox(image, box_lists)"
   ]
  },
  {
   "cell_type": "markdown",
   "id": "cef1416a-c369-4e46-9ff1-85d0732e39a6",
   "metadata": {},
   "source": [
    "#### IOU & Dice"
   ]
  },
  {
   "cell_type": "code",
   "execution_count": 11,
   "id": "74d9e072-1706-43e6-bd47-7c12930fb287",
   "metadata": {},
   "outputs": [],
   "source": [
    "def get_iou(boxa, boxb):\n",
    "    max_x = max(boxa.x1, boxb.x1)\n",
    "    max_y = max(boxa.y1, boxb.y1)\n",
    "    min_x = min(boxa.x2, boxb.x2)\n",
    "    min_y = min(boxa.y2, boxb.y2)\n",
    "    if min_x <= max_x or min_y <= max_y: #没有交集\n",
    "        return 0\n",
    "    area_i = (min_x - max_x) * (min_y - max_y)\n",
    "    area_a = (boxa.x2 - boxa.x1) * (boxa.y2 - boxa.y1)\n",
    "    area_b = (boxb.x2 - boxb.x1) * (boxb.y2 - boxb.y1)\n",
    "    area_u = area_a + area_b - area_i\n",
    "    return float(area_i) / float(area_u)\n",
    "\n",
    "def get_dice(boxa, boxb):\n",
    "    max_x = max(boxa.x1, boxb.x1)\n",
    "    max_y = max(boxa.y1, boxb.y1)\n",
    "    min_x = min(boxa.x2, boxb.x2)\n",
    "    min_y = min(boxa.y2, boxb.y2)\n",
    "    if min_x <= max_x or min_y <= max_y: #没有交集\n",
    "        return 0\n",
    "    area_i = (min_x - max_x) * (min_y - max_y)\n",
    "    area_a = (boxa.x2 - boxa.x1) * (boxa.y2 - boxa.y1)\n",
    "    area_b = (boxb.x2 - boxb.x1) * (boxb.y2 - boxb.y1)\n",
    "    return 2*float(area_i) / (float(area_a)+float(area_b))"
   ]
  },
  {
   "cell_type": "code",
   "execution_count": 12,
   "id": "6092e6a2-a7bc-4bfc-a24f-847538c813cc",
   "metadata": {},
   "outputs": [
    {
     "data": {
      "text/plain": [
       "0.8024697185691493"
      ]
     },
     "execution_count": 12,
     "metadata": {},
     "output_type": "execute_result"
    },
    {
     "data": {
      "text/plain": [
       "0.8904113176516187"
      ]
     },
     "execution_count": 12,
     "metadata": {},
     "output_type": "execute_result"
    }
   ],
   "source": [
    "get_iou(box1, box2)\n",
    "get_dice(box1, box2)"
   ]
  },
  {
   "cell_type": "markdown",
   "id": "818e5a80-3924-431c-81f4-078354816072",
   "metadata": {},
   "source": [
    "#### NMS"
   ]
  },
  {
   "cell_type": "code",
   "execution_count": 13,
   "id": "ba65f1fe-52e5-4d24-92ce-3eb23b24e006",
   "metadata": {},
   "outputs": [],
   "source": [
    "# 先筛选confidence>0.6的bbox\n",
    "# 然后按照score = confidence*P(k)得到每个bbox最高概率类别的score\n",
    "# 按类别，从最高score的bbox开始遍历\n",
    "def NMS(box_lists, k): #最终保留k个bbox\n",
    "    box_lists = sorted(box_lists, key=lambda x: x.score, reverse=True)\n",
    "    NMS_lists = [box_lists[0]] #首先保留最高分\n",
    "    temp_lists = []\n",
    "    for i in range(k): #遍历最高分bbox\n",
    "        for j in range(1, len(box_lists)): #遍历候补bbox\n",
    "            iou = get_iou(NMS_lists[i], box_lists[j])\n",
    "            if iou < 0.7: #把重叠iou>=0.7的都从候补去掉\n",
    "                temp_lists.append(box_lists[j])\n",
    "        if len(temp_lists) == 0: #已经分配完毕\n",
    "            return NMS_lists\n",
    "        box_lists = temp_lists #更新后补bbox\n",
    "        temp_lists = []\n",
    "        if i<k-1: #如果还有剩下bbox没有分配完，但是已经满了k个，就不需要再加了\n",
    "            NMS_lists.append(box_lists[0]) #遍历下一个最高分\n",
    "    return NMS_lists"
   ]
  },
  {
   "cell_type": "code",
   "execution_count": 14,
   "id": "8e9bab1f-988d-43b4-b052-834020dd75d4",
   "metadata": {},
   "outputs": [
    {
     "data": {
      "text/plain": [
       "0.35818103"
      ]
     },
     "execution_count": 14,
     "metadata": {},
     "output_type": "execute_result"
    },
    {
     "data": {
      "text/plain": [
       "0.13638769"
      ]
     },
     "execution_count": 14,
     "metadata": {},
     "output_type": "execute_result"
    }
   ],
   "source": [
    "NMS_list = NMS(box_lists, 2)\n",
    "for bbox in NMS_list:\n",
    "    bbox.score"
   ]
  }
 ],
 "metadata": {
  "kernelspec": {
   "display_name": "Python 3 (ipykernel)",
   "language": "python",
   "name": "python3"
  },
  "language_info": {
   "codemirror_mode": {
    "name": "ipython",
    "version": 3
   },
   "file_extension": ".py",
   "mimetype": "text/x-python",
   "name": "python",
   "nbconvert_exporter": "python",
   "pygments_lexer": "ipython3",
   "version": "3.8.8"
  }
 },
 "nbformat": 4,
 "nbformat_minor": 5
}
